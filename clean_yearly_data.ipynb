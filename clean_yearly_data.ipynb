{
 "cells": [
  {
   "cell_type": "code",
   "execution_count": 4,
   "id": "69beb1c4",
   "metadata": {},
   "outputs": [],
   "source": [
    "import pandas as pd\n",
    "\n",
    "df_avg = pd.read_csv(\"Yearly_Avg.csv\")\n",
    "df_eop = pd.read_csv(\"Yearly_EoP.csv\")\n"
   ]
  },
  {
   "cell_type": "code",
   "execution_count": 6,
   "id": "8a72639e",
   "metadata": {},
   "outputs": [],
   "source": [
    "import numpy as np"
   ]
  },
  {
   "cell_type": "code",
   "execution_count": null,
   "id": "ab802d20",
   "metadata": {},
   "outputs": [],
   "source": [
    "df_avg.head()"
   ]
  },
  {
   "cell_type": "code",
   "execution_count": 10,
   "id": "f0d63852",
   "metadata": {},
   "outputs": [],
   "source": [
    "df_avg['Date'] = pd.to_datetime(df_avg['Date'])\n",
    "df_eop['Date'] = pd.to_datetime(df_eop['Date'])\n"
   ]
  },
  {
   "cell_type": "code",
   "execution_count": 12,
   "id": "75219494",
   "metadata": {},
   "outputs": [],
   "source": [
    "def clean_numeric(df):\n",
    "    for col in df.columns[1:]:  # Skip 'Date' column\n",
    "        df[col] = df[col].replace(',', '', regex=True).astype(float)\n",
    "    return df\n",
    "\n",
    "df_avg = clean_numeric(df_avg)\n",
    "df_eop = clean_numeric(df_eop)\n"
   ]
  },
  {
   "cell_type": "code",
   "execution_count": 14,
   "id": "4ff16880",
   "metadata": {},
   "outputs": [],
   "source": [
    "df_avg = df_avg.dropna(thresh=len(df_avg.columns)//2)\n",
    "df_eop = df_eop.dropna(thresh=len(df_eop.columns)//2)\n"
   ]
  },
  {
   "cell_type": "code",
   "execution_count": 15,
   "id": "defbdec6",
   "metadata": {},
   "outputs": [],
   "source": [
    "df_avg.to_csv(\"Yearly_Avg_Cleaned.csv\", index=False)\n",
    "df_eop.to_csv(\"Yearly_EoP_Cleaned.csv\", index=False)\n"
   ]
  }
 ],
 "metadata": {
  "kernelspec": {
   "display_name": "Python 3",
   "language": "python",
   "name": "python3"
  },
  "language_info": {
   "codemirror_mode": {
    "name": "ipython",
    "version": 3
   },
   "file_extension": ".py",
   "mimetype": "text/x-python",
   "name": "python",
   "nbconvert_exporter": "python",
   "pygments_lexer": "ipython3",
   "version": "3.13.3"
  }
 },
 "nbformat": 4,
 "nbformat_minor": 5
}
